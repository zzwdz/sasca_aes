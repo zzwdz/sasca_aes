{
 "cells": [
  {
   "cell_type": "code",
   "execution_count": null,
   "id": "a4a64eda-caf1-493c-b7b9-c1f32e576b7c",
   "metadata": {},
   "outputs": [
    {
     "name": "stdout",
     "output_type": "stream",
     "text": [
      "Plaintext shape: (5000, 16)\n",
      "Ciphertext shape: (5000, 16)\n",
      "Trace shape: (5000, 100000)\n",
      "Masks shape: (5000, 16)\n",
      "Key shape: (5000, 16)\n"
     ]
    }
   ],
   "source": [
    "import h5py\n",
    "import numpy as np\n",
    "\n",
    "with h5py.File('../datasets/ATMega8515_raw_traces.h5', 'r') as f:\n",
    "    N = 5000 \n",
    "    traces = f['traces'][:N].astype(np.int16)\n",
    "    \n",
    "    metadata = f['metadata'][:N]\n",
    "    plaintexts = metadata['plaintext'][:N]   # shape: (N, 16)\n",
    "    keys = metadata['key'][:N]              # shape: (N, 16)\n",
    "\n",
    "    ciphertexts = metadata['ciphertext'][:N] if 'ciphertext' in metadata.dtype.names else None\n",
    "    masks = metadata['masks'][:N] if 'masks' in metadata.dtype.names else None\n",
    "\n",
    "print(\"Plaintext shape:\", plaintexts.shape)   \n",
    "print(\"Ciphertext shape:\", None if ciphertexts is None else ciphertexts.shape)\n",
    "print(\"Trace shape:\", traces.shape)           \n",
    "print(\"Masks shape:\", None if masks is None else masks.shape)\n",
    "print(\"Key shape:\", keys.shape)  "
   ]
  },
  {
   "cell_type": "code",
   "execution_count": 2,
   "id": "fec4d4d9-3d53-49d2-91db-8ce75ce54b72",
   "metadata": {},
   "outputs": [],
   "source": [
    "import scalib.modeling\n",
    "import scalib.attacks\n",
    "import scalib.postprocessing\n",
    "\n",
    "SBOX = np.array(\n",
    "    [\n",
    "        0x63, 0x7C, 0x77, 0x7B, 0xF2, 0x6B, 0x6F, 0xC5, 0x30, 0x01, 0x67, 0x2B, 0xFE, 0xD7, 0xAB,\n",
    "        0x76, 0xCA, 0x82, 0xC9, 0x7D, 0xFA, 0x59, 0x47, 0xF0, 0xAD, 0xD4, 0xA2, 0xAF, 0x9C, 0xA4,\n",
    "        0x72, 0xC0, 0xB7, 0xFD, 0x93, 0x26, 0x36, 0x3F, 0xF7, 0xCC, 0x34, 0xA5, 0xE5, 0xF1, 0x71,\n",
    "        0xD8, 0x31, 0x15, 0x04, 0xC7, 0x23, 0xC3, 0x18, 0x96, 0x05, 0x9A, 0x07, 0x12, 0x80, 0xE2,\n",
    "        0xEB, 0x27, 0xB2, 0x75, 0x09, 0x83, 0x2C, 0x1A, 0x1B, 0x6E, 0x5A, 0xA0, 0x52, 0x3B, 0xD6,\n",
    "        0xB3, 0x29, 0xE3, 0x2F, 0x84, 0x53, 0xD1, 0x00, 0xED, 0x20, 0xFC, 0xB1, 0x5B, 0x6A, 0xCB,\n",
    "        0xBE, 0x39, 0x4A, 0x4C, 0x58, 0xCF, 0xD0, 0xEF, 0xAA, 0xFB, 0x43, 0x4D, 0x33, 0x85, 0x45,\n",
    "        0xF9, 0x02, 0x7F, 0x50, 0x3C, 0x9F, 0xA8, 0x51, 0xA3, 0x40, 0x8F, 0x92, 0x9D, 0x38, 0xF5,\n",
    "        0xBC, 0xB6, 0xDA, 0x21, 0x10, 0xFF, 0xF3, 0xD2, 0xCD, 0x0C, 0x13, 0xEC, 0x5F, 0x97, 0x44,\n",
    "        0x17, 0xC4, 0xA7, 0x7E, 0x3D, 0x64, 0x5D, 0x19, 0x73, 0x60, 0x81, 0x4F, 0xDC, 0x22, 0x2A,\n",
    "        0x90, 0x88, 0x46, 0xEE, 0xB8, 0x14, 0xDE, 0x5E, 0x0B, 0xDB, 0xE0, 0x32, 0x3A, 0x0A, 0x49,\n",
    "        0x06, 0x24, 0x5C, 0xC2, 0xD3, 0xAC, 0x62, 0x91, 0x95, 0xE4, 0x79, 0xE7, 0xC8, 0x37, 0x6D,\n",
    "        0x8D, 0xD5, 0x4E, 0xA9, 0x6C, 0x56, 0xF4, 0xEA, 0x65, 0x7A, 0xAE, 0x08, 0xBA, 0x78, 0x25,\n",
    "        0x2E, 0x1C, 0xA6, 0xB4, 0xC6, 0xE8, 0xDD, 0x74, 0x1F, 0x4B, 0xBD, 0x8B, 0x8A, 0x70, 0x3E,\n",
    "        0xB5, 0x66, 0x48, 0x03, 0xF6, 0x0E, 0x61, 0x35, 0x57, 0xB9, 0x86, 0xC1, 0x1D, 0x9E, 0xE1,\n",
    "        0xF8, 0x98, 0x11, 0x69, 0xD9, 0x8E, 0x94, 0x9B, 0x1E, 0x87, 0xE9, 0xCE, 0x55, 0x28, 0xDF,\n",
    "        0x8C, 0xA1, 0x89, 0x0D, 0xBF, 0xE6, 0x42, 0x68, 0x41, 0x99, 0x2D, 0x0F, 0xB0, 0x54, 0xBB,\n",
    "        0x16,\n",
    "    ],\n",
    "    dtype=np.uint16,\n",
    ")"
   ]
  },
  {
   "cell_type": "code",
   "execution_count": 3,
   "id": "1d082286-1d0d-44ce-8bd5-83a1f8816abb",
   "metadata": {},
   "outputs": [],
   "source": [
    "selected_plaintexts = plaintexts[:, 2:].astype(np.uint16)\n",
    "selected_keys = keys[:, 2:].astype(np.uint16)\n",
    "selected_masks = masks[:, 2:16].astype(np.uint16)\n",
    "\n",
    "rin = np.zeros((selected_masks.shape[0],), dtype=np.uint16)\n",
    "rout = np.zeros((selected_masks.shape[0],), dtype=np.uint16)\n",
    "\n",
    "x0 = selected_keys ^ selected_plaintexts ^ selected_masks\n",
    "x1 = selected_masks\n",
    "xrin = ((selected_keys ^ selected_plaintexts).T ^ rin).T\n",
    "y0 = SBOX[selected_keys ^ selected_plaintexts] ^ selected_masks\n",
    "y1 = selected_masks\n",
    "yrout = (SBOX[(selected_keys ^ selected_plaintexts).T] ^ rout).T\n",
    "labels = {}\n",
    "for i in range(14):\n",
    "    labels[f\"k_{i}\"] = selected_keys[:, i]\n",
    "    labels[f\"p_{i}\"] = selected_plaintexts[:, i]\n",
    "    labels[f\"x0_{i}\"] = x0[:, i]\n",
    "    labels[f\"x1_{i}\"] = x1[:, i]\n",
    "    labels[f\"y0_{i}\"] = y0[:, i]\n",
    "    labels[f\"y1_{i}\"] = y1[:, i]\n",
    "    labels[f\"xrin_{i}\"] = xrin[:, i]\n",
    "    labels[f\"yrout_{i}\"] = yrout[:, i]\n",
    "labels[f\"rout\"] = rout[:]\n",
    "labels[f\"rin\"] = rin[:]"
   ]
  },
  {
   "cell_type": "code",
   "execution_count": 4,
   "id": "dd126c50-7042-4342-843b-af1c4e49cb6e",
   "metadata": {},
   "outputs": [
    {
     "name": "stderr",
     "output_type": "stream",
     "text": [
      "\n",
      "NR Variables: 100%|█████████████████████████████████████████████████████████████████████████████████████████████████████████████████████████████████████████| 86/86 [00:09<00:00,  9.07it/s]"
     ]
    }
   ],
   "source": [
    "from tqdm import tqdm\n",
    "from scalib.metrics import SNR\n",
    "NBYTES = 14\n",
    "def target_variables(byte):\n",
    "    \"\"\"variables that will be profiled\"\"\"\n",
    "    return [\"rin\", \"rout\"] + [\n",
    "            f\"{base}_{byte}\" for base in (\"x0\", \"x1\", \"xrin\", \"yrout\", \"y0\", \"y1\")\n",
    "            ]\n",
    "snrs = {v: dict() for i in range(NBYTES) for v in target_variables(i)}\n",
    "for v, m in tqdm(snrs.items(), total=len(snrs), desc=\"SNR Variables\"):\n",
    "    snr = SNR(nc=256)\n",
    "    x = labels[v].astype(np.uint16).reshape((5000, 1))\n",
    "        # Note: if the traces do not fit in RAM, you can call multiple times fit_u\n",
    "        # on the same SNR object to do incremental SNR computation.\n",
    "    snr.fit_u(traces, x)\n",
    "    m[\"SNR\"] = snr.get_snr()[0, :]\n",
    "        # Avoid NaN in case of scope over-range\n",
    "    np.nan_to_num(m[\"SNR\"], nan=0.0)"
   ]
  },
  {
   "cell_type": "code",
   "execution_count": null,
   "id": "75eed8da-9efe-422b-9f06-8a291b1a0d93",
   "metadata": {},
   "outputs": [],
   "source": [
    "models = dict()\n",
    "vs = []\n",
    "pois = []\n",
    "ncs = []\n",
    "ps = []\n",
    "\n",
    "for k, m in snrs.items():\n",
    "    poi = np.argsort(m[\"SNR\"])[-512:].astype(np.uint32)\n",
    "    poi.sort()\n",
    "\n",
    "    values = labels[k]\n",
    "    unique_classes = np.unique(values)\n",
    "\n",
    "    if len(unique_classes) >= 100:\n",
    "        vs.append(k)\n",
    "        pois.append(poi)\n",
    "        ncs.append(256)\n",
    "        ps.append(8)\n",
    "        models[k] = {\"poi\": poi}\n",
    "\n",
    "if not vs:\n",
    "    raise ValueError(\"No variables with enough class diversity found.\")\n",
    "\n",
    "x = np.array([labels[v] for v in vs]).T\n",
    "\n",
    "mlda = scalib.modeling.MultiLDA(ncs=ncs, ps=ps, pois=pois)\n",
    "mlda.fit_u(traces, x)\n",
    "mlda.solve()\n",
    "\n",
    "for lda, v in zip(mlda.ldas, vs):\n",
    "    models[v][\"lda\"] = lda\n"
   ]
  },
  {
   "cell_type": "code",
   "execution_count": null,
   "id": "d7936977-51a9-4d1d-a5f3-049b9fd8eb42",
   "metadata": {},
   "outputs": [],
   "source": [
    "import copy\n",
    "import collections\n",
    "from scalib.attacks import FactorGraph, BPState\n",
    "SASCA_GRAPH = \"\"\"\n",
    "NC 256\n",
    "TABLE sbox\n",
    "\n",
    "VAR MULTI x0\n",
    "VAR MULTI x1\n",
    "VAR MULTI x\n",
    "VAR MULTI xp\n",
    "VAR MULTI xrin\n",
    "\n",
    "VAR MULTI y0\n",
    "VAR MULTI y1\n",
    "VAR MULTI y\n",
    "VAR MULTI yp\n",
    "VAR MULTI yrout\n",
    "\n",
    "PUB MULTI p\n",
    "VAR SINGLE k\n",
    "\n",
    "PROPERTY x = p ^ k\n",
    "PROPERTY x = x0 ^ x1\n",
    "PROPERTY x = xrin\n",
    "\n",
    "PROPERTY y = sbox[x]\n",
    "PROPERTY y = y0 ^ y1\n",
    "PROPERTY y = yrout\n",
    "\n",
    "\"\"\"\n",
    "\n",
    "def sasca_graph():\n",
    "    sasca = scalib.attacks.FactorGraph(SASCA_GRAPH,{\"sbox\": SBOX.astype(np.uint32)})\n",
    "    return sasca\n",
    "\n",
    "    \n",
    "def attack(traces, labels, models):\n",
    "    \"\"\"Run a SASCA attack using new scalib API and evaluate key distribution.\"\"\"\n",
    "    secret_key = [int(labels[f\"k_{i}\"][0]) for i in range(NBYTES)]\n",
    "    key_distribution = []\n",
    "\n",
    "    for i in range(NBYTES):\n",
    "        sasca = copy.deepcopy(sasca_graph())\n",
    "        \n",
    "        # Set the labels for the plaintext byte\n",
    "        p = labels[f\"p_{i}\"].astype(np.uint32)\n",
    "        bp = BPState(sasca, traces.shape[0], {\"p\": p})\n",
    "\n",
    "        # Set the evidence for target variables\n",
    "        for var in target_variables(i): \n",
    "            if var not in models:\n",
    "                \n",
    "                continue\n",
    "            var_name = var.split('_')[0]\n",
    "            model = models[var]\n",
    "            poi = model[\"poi\"]\n",
    "            lda = model[\"lda\"]\n",
    "            prs = lda.predict_proba(traces[:, poi])\n",
    "            prs = prs / prs.sum(axis=1, keepdims=True)  # Normalize\n",
    "            bp.set_evidence(var_name, prs)\n",
    "\n",
    "        # Run belief propagation\n",
    "        bp.bp_loopy(it=5, initialize_states=True)\n",
    "\n",
    "        # Get the key distribution\n",
    "        distri = bp.get_distribution(\"k\")\n",
    "        key_distribution.append(distri)  # Assuming distri is (1, 256)\n",
    "        \n",
    "    key_distribution = np.array(key_distribution)\n",
    "    return secret_key, key_distribution\n",
    "\n",
    "    \n",
    "def run_attack_eval(traces, labels, models):\n",
    "    \"\"\"Run a SASCA attack on the given traces and evaluate its performance.\n",
    "    Returns the log2 of the rank of the true key.\n",
    "    \"\"\"\n",
    "    secret_key, key_distribution = attack(traces, labels, models)\n",
    "    if isinstance(secret_key, (int, np.integer, np.float64)):\n",
    "        secret_key = [int(secret_key)]\n",
    "    for i in tqdm(range(len(secret_key))):\n",
    "        k = secret_key[i]\n",
    "        probs = key_distribution[i]\n",
    "        sorted_indices = np.argsort(probs)[::-1] \n",
    "        rank = np.where(sorted_indices == k)[0][0]\n",
    "        print(f\"[Byte {i}] True key = {k}, Rank = {rank}, Prob = {probs[k]:.5f}\")\n",
    "    rmin, r, rmax = scalib.postprocessing.rank_accuracy(\n",
    "        -np.log2(key_distribution), secret_key, max_nb_bin=2**20\n",
    "    )\n",
    "    \n",
    "    lrmin, lr, lrmax = (np.log2(rmin), np.log2(r), np.log2(rmax))\n",
    "    return lr\n"
   ]
  },
  {
   "cell_type": "code",
   "execution_count": 20,
   "id": "be2a4e39-3cd0-4652-95d3-c201031c06b9",
   "metadata": {},
   "outputs": [
    {
     "name": "stderr",
     "output_type": "stream",
     "text": [
      "\n",
      "\n",
      "/tmp/ipykernel_49840/1962702495.py:88: RuntimeWarning: divide by zero encountered in log2\n",
      "  -np.log2(key_distribution), secret_key, max_nb_bin=2**20\n",
      "█████| 14/14 [00:00<00:00, 7435.77it/s]"
     ]
    },
    {
     "name": "stdout",
     "output_type": "stream",
     "text": [
      "[Byte 0] True key = 224, Rank = 1, Prob = 0.03970\n",
      "[Byte 1] True key = 242, Rank = 1, Prob = 0.13169\n",
      "[Byte 2] True key = 114, Rank = 0, Prob = 0.28072\n",
      "[Byte 3] True key = 33, Rank = 2, Prob = 0.07738\n",
      "[Byte 4] True key = 254, Rank = 5, Prob = 0.08108\n",
      "[Byte 5] True key = 16, Rank = 0, Prob = 0.42093\n",
      "[Byte 6] True key = 167, Rank = 4, Prob = 0.04331\n",
      "[Byte 7] True key = 141, Rank = 25, Prob = 0.00187\n",
      "[Byte 8] True key = 74, Rank = 2, Prob = 0.10452\n",
      "[Byte 9] True key = 220, Rank = 7, Prob = 0.05129\n",
      "[Byte 10] True key = 142, Rank = 0, Prob = 0.45632\n",
      "[Byte 11] True key = 73, Rank = 8, Prob = 0.02412\n",
      "[Byte 12] True key = 4, Rank = 0, Prob = 0.84773\n",
      "[Byte 13] True key = 105, Rank = 2, Prob = 0.01898\n"
     ]
    },
    {
     "name": "stderr",
     "output_type": "stream",
     "text": [
      "\n",
      "100%|█████████████████████████████████████████████████████████████████████████████████████████████████████████████████████████████████████████████████████| 14/14 [00:00<00:00, 15518.04it/s]\n",
      "attacks:  40%|██████████████████████████████████████████████████████████                                                                                       | 2/5 [00:00<00:00, 14.71it/s]"
     ]
    },
    {
     "name": "stdout",
     "output_type": "stream",
     "text": [
      "[Byte 0] True key = 224, Rank = 0, Prob = 0.99989\n",
      "[Byte 1] True key = 242, Rank = 0, Prob = 0.57223\n",
      "[Byte 2] True key = 114, Rank = 0, Prob = 0.99975\n",
      "[Byte 3] True key = 33, Rank = 3, Prob = 0.09972\n",
      "[Byte 4] True key = 254, Rank = 5, Prob = 0.03227\n",
      "[Byte 5] True key = 16, Rank = 0, Prob = 0.99183\n",
      "[Byte 6] True key = 167, Rank = 2, Prob = 0.03726\n",
      "[Byte 7] True key = 141, Rank = 0, Prob = 0.98412\n",
      "[Byte 8] True key = 74, Rank = 0, Prob = 0.74637\n",
      "[Byte 9] True key = 220, Rank = 9, Prob = 0.02369\n",
      "[Byte 10] True key = 142, Rank = 4, Prob = 0.03492\n",
      "[Byte 11] True key = 73, Rank = 5, Prob = 0.05674\n",
      "[Byte 12] True key = 4, Rank = 0, Prob = 0.99572\n",
      "[Byte 13] True key = 105, Rank = 0, Prob = 0.78124\n"
     ]
    },
    {
     "name": "stderr",
     "output_type": "stream",
     "text": [
      "\n",
      "\n",
      "00%|█████████████████████████████████████████████████████████████████████████████████████████████████████████████████████████████████████████████████████| 14/14 [00:00<00:00, 11722.95it/s]"
     ]
    },
    {
     "name": "stdout",
     "output_type": "stream",
     "text": [
      "[Byte 0] True key = 224, Rank = 0, Prob = 0.87737\n",
      "[Byte 1] True key = 242, Rank = 0, Prob = 0.91949\n",
      "[Byte 2] True key = 114, Rank = 0, Prob = 0.91951\n",
      "[Byte 3] True key = 33, Rank = 69, Prob = 0.00035\n",
      "[Byte 4] True key = 254, Rank = 7, Prob = 0.02003\n",
      "[Byte 5] True key = 16, Rank = 1, Prob = 0.32235\n",
      "[Byte 6] True key = 167, Rank = 0, Prob = 0.97946\n",
      "[Byte 7] True key = 141, Rank = 0, Prob = 0.72284\n",
      "[Byte 8] True key = 74, Rank = 1, Prob = 0.11107\n",
      "[Byte 9] True key = 220, Rank = 1, Prob = 0.15459\n",
      "[Byte 10] True key = 142, Rank = 0, Prob = 0.44900\n",
      "[Byte 11] True key = 73, Rank = 96, Prob = 0.00001\n",
      "[Byte 12] True key = 4, Rank = 0, Prob = 0.96331\n",
      "[Byte 13] True key = 105, Rank = 0, Prob = 0.95446\n"
     ]
    },
    {
     "name": "stderr",
     "output_type": "stream",
     "text": [
      "\n",
      "100%|█████████████████████████████████████████████████████████████████████████████████████████████████████████████████████████████████████████████████████| 14/14 [00:00<00:00, 11264.20it/s]\n",
      "attacks:  80%|████████████████████████████████████████████████████████████████████████████████████████████████████████████████████                             | 4/5 [00:00<00:00, 14.13it/s]"
     ]
    },
    {
     "name": "stdout",
     "output_type": "stream",
     "text": [
      "[Byte 0] True key = 224, Rank = 0, Prob = 0.88095\n",
      "[Byte 1] True key = 242, Rank = 0, Prob = 0.24538\n",
      "[Byte 2] True key = 114, Rank = 0, Prob = 0.96185\n",
      "[Byte 3] True key = 33, Rank = 10, Prob = 0.02137\n",
      "[Byte 4] True key = 254, Rank = 71, Prob = 0.00008\n",
      "[Byte 5] True key = 16, Rank = 0, Prob = 0.57467\n",
      "[Byte 6] True key = 167, Rank = 13, Prob = 0.00965\n",
      "[Byte 7] True key = 141, Rank = 7, Prob = 0.03395\n",
      "[Byte 8] True key = 74, Rank = 1, Prob = 0.10705\n",
      "[Byte 9] True key = 220, Rank = 0, Prob = 0.35070\n",
      "[Byte 10] True key = 142, Rank = 1, Prob = 0.08610\n",
      "[Byte 11] True key = 73, Rank = 0, Prob = 0.55108\n",
      "[Byte 12] True key = 4, Rank = 2, Prob = 0.27272\n",
      "[Byte 13] True key = 105, Rank = 0, Prob = 0.46781\n"
     ]
    },
    {
     "name": "stderr",
     "output_type": "stream",
     "text": [
      "\n",
      "\n",
      "00%|█████████████████████████████████████████████████████████████████████████████████████████████████████████████████████████████████████████████████████| 14/14 [00:00<00:00, 10215.77it/s]"
     ]
    },
    {
     "name": "stdout",
     "output_type": "stream",
     "text": [
      "[Byte 0] True key = 224, Rank = 0, Prob = 0.44096\n",
      "[Byte 1] True key = 242, Rank = 5, Prob = 0.05101\n",
      "[Byte 2] True key = 114, Rank = 14, Prob = 0.00130\n",
      "[Byte 3] True key = 33, Rank = 0, Prob = 0.36079\n",
      "[Byte 4] True key = 254, Rank = 0, Prob = 0.75916\n",
      "[Byte 5] True key = 16, Rank = 0, Prob = 0.53490\n",
      "[Byte 6] True key = 167, Rank = 0, Prob = 0.23773\n",
      "[Byte 7] True key = 141, Rank = 0, Prob = 0.98236\n",
      "[Byte 8] True key = 74, Rank = 56, Prob = 0.00019\n",
      "[Byte 9] True key = 220, Rank = 0, Prob = 0.22674\n",
      "[Byte 10] True key = 142, Rank = 6, Prob = 0.02148\n",
      "[Byte 11] True key = 73, Rank = 14, Prob = 0.00780\n",
      "[Byte 12] True key = 4, Rank = 0, Prob = 0.98922\n",
      "[Byte 13] True key = 105, Rank = 0, Prob = 0.94749\n"
     ]
    },
    {
     "name": "stderr",
     "output_type": "stream",
     "text": [
      "\n",
      "ttacks: 100%|█████████████████████████████████████████████████████████████████████████████████████████████████████████████████████████████████████████████████| 5/5 [00:00<00:00, 13.23it/s]"
     ]
    }
   ],
   "source": [
    "ranks = []\n",
    "\n",
    "for a in tqdm(range(5), desc=\"attacks\"):\n",
    "    trace_a = traces[a:a+1, :]  \n",
    "    label_a = {k: val[a:a+1] for k, val in labels.items()}  \n",
    "    rank = run_attack_eval(trace_a, label_a, models)\n",
    "    ranks.append(rank)"
   ]
  },
  {
   "cell_type": "code",
   "execution_count": null,
   "id": "22fe3824-ddf4-4b27-86e9-2b1bdfffa2cb",
   "metadata": {},
   "outputs": [],
   "source": []
  },
  {
   "cell_type": "code",
   "execution_count": null,
   "id": "de2a23ee-4f8d-4403-abb0-854689d6a072",
   "metadata": {},
   "outputs": [],
   "source": []
  }
 ],
 "metadata": {
  "kernelspec": {
   "display_name": "Python 3 (ipykernel)",
   "language": "python",
   "name": "python3"
  },
  "language_info": {
   "codemirror_mode": {
    "name": "ipython",
    "version": 3
   },
   "file_extension": ".py",
   "mimetype": "text/x-python",
   "name": "python",
   "nbconvert_exporter": "python",
   "pygments_lexer": "ipython3",
   "version": "3.11.11"
  }
 },
 "nbformat": 4,
 "nbformat_minor": 5
}
